{
 "cells": [
  {
   "cell_type": "code",
   "execution_count": 1,
   "id": "f7f627ba",
   "metadata": {},
   "outputs": [
    {
     "data": {
      "text/plain": [
       "[[4, -3, 0], [2, -1, 2], [1, 5, 7]]"
      ]
     },
     "execution_count": 1,
     "metadata": {},
     "output_type": "execute_result"
    }
   ],
   "source": [
    "import pandas as pd\n",
    "import numpy as np\n",
    "\n",
    "M = [[4, -3, 0],\n",
    "     [2, -1, 2],\n",
    "     [1, 5, 7]]\n",
    "\n",
    "M"
   ]
  },
  {
   "cell_type": "code",
   "execution_count": 2,
   "id": "6d4d2b1f",
   "metadata": {},
   "outputs": [
    {
     "data": {
      "text/plain": [
       "array([ 7.81129276,  3.39527581, -1.20656856])"
      ]
     },
     "execution_count": 2,
     "metadata": {},
     "output_type": "execute_result"
    }
   ],
   "source": [
    "w,v = np.linalg.eig(M)\n",
    "w"
   ]
  },
  {
   "cell_type": "code",
   "execution_count": 3,
   "id": "857274f9",
   "metadata": {},
   "outputs": [
    {
     "data": {
      "text/plain": [
       "array([[ 0.14722557, -0.86037799, -0.43022492],\n",
       "       [-0.18703991, -0.17343046, -0.74666518],\n",
       "       [-0.97125728,  0.47924063,  0.5073437 ]])"
      ]
     },
     "execution_count": 3,
     "metadata": {},
     "output_type": "execute_result"
    }
   ],
   "source": [
    "v"
   ]
  },
  {
   "cell_type": "code",
   "execution_count": 4,
   "id": "a8e7383d",
   "metadata": {},
   "outputs": [
    {
     "data": {
      "text/plain": [
       "array([0, 1, 2], dtype=int64)"
      ]
     },
     "execution_count": 4,
     "metadata": {},
     "output_type": "execute_result"
    }
   ],
   "source": [
    "np.argsort(-1 * w)"
   ]
  },
  {
   "cell_type": "code",
   "execution_count": 5,
   "id": "884ad2e4",
   "metadata": {},
   "outputs": [
    {
     "data": {
      "text/plain": [
       "array([[ 7.81129276,  0.        ,  0.        ],\n",
       "       [ 0.        ,  3.39527581,  0.        ],\n",
       "       [ 0.        ,  0.        , -1.20656856]])"
      ]
     },
     "execution_count": 5,
     "metadata": {},
     "output_type": "execute_result"
    }
   ],
   "source": [
    "L = np.zeros((3,3))\n",
    "\n",
    "for i in range(len(w)):\n",
    "    L[i][i] = w[i]\n",
    "    \n",
    "L"
   ]
  },
  {
   "cell_type": "code",
   "execution_count": 6,
   "id": "ca188483",
   "metadata": {},
   "outputs": [
    {
     "data": {
      "text/plain": [
       "array([[ 1.15002201, -2.92122058,  0.51909586],\n",
       "       [-1.46102351, -0.58884425,  0.90090273],\n",
       "       [-7.58677495,  1.62715413, -0.61214495]])"
      ]
     },
     "execution_count": 6,
     "metadata": {},
     "output_type": "execute_result"
    }
   ],
   "source": [
    "np.dot(v,L)"
   ]
  },
  {
   "cell_type": "markdown",
   "id": "da910658",
   "metadata": {},
   "source": [
    "### First Column [:, 1]"
   ]
  },
  {
   "cell_type": "code",
   "execution_count": 7,
   "id": "8ee2de62",
   "metadata": {},
   "outputs": [
    {
     "data": {
      "text/plain": [
       "1.150022029027873"
      ]
     },
     "execution_count": 7,
     "metadata": {},
     "output_type": "execute_result"
    }
   ],
   "source": [
    "(0.14722557 * 7.81129276)"
   ]
  },
  {
   "cell_type": "code",
   "execution_count": 8,
   "id": "38a4252c",
   "metadata": {},
   "outputs": [
    {
     "data": {
      "text/plain": [
       "-1.4610234948140515"
      ]
     },
     "execution_count": 8,
     "metadata": {},
     "output_type": "execute_result"
    }
   ],
   "source": [
    "(-0.18703991 * 7.81129276)"
   ]
  },
  {
   "cell_type": "code",
   "execution_count": 9,
   "id": "401001f1",
   "metadata": {},
   "outputs": [
    {
     "data": {
      "text/plain": [
       "-7.586774959361293"
      ]
     },
     "execution_count": 9,
     "metadata": {},
     "output_type": "execute_result"
    }
   ],
   "source": [
    "(-0.97125728 * 7.81129276)"
   ]
  },
  {
   "cell_type": "markdown",
   "id": "793bb1bc",
   "metadata": {},
   "source": [
    "### Second Column [:, 2]"
   ]
  },
  {
   "cell_type": "code",
   "execution_count": 10,
   "id": "ce19055c",
   "metadata": {},
   "outputs": [
    {
     "data": {
      "text/plain": [
       "-2.921220576903422"
      ]
     },
     "execution_count": 10,
     "metadata": {},
     "output_type": "execute_result"
    }
   ],
   "source": [
    "-0.86037799 * 3.39527581"
   ]
  },
  {
   "cell_type": "code",
   "execution_count": 11,
   "id": "b2e01371",
   "metadata": {},
   "outputs": [
    {
     "data": {
      "text/plain": [
       "-0.5888442455551726"
      ]
     },
     "execution_count": 11,
     "metadata": {},
     "output_type": "execute_result"
    }
   ],
   "source": [
    "-0.17343046 * 3.39527581"
   ]
  },
  {
   "cell_type": "code",
   "execution_count": 12,
   "id": "abc0e60f",
   "metadata": {},
   "outputs": [
    {
     "data": {
      "text/plain": [
       "1.6271541182081601"
      ]
     },
     "execution_count": 12,
     "metadata": {},
     "output_type": "execute_result"
    }
   ],
   "source": [
    "0.47924063 * 3.39527581"
   ]
  },
  {
   "cell_type": "markdown",
   "id": "c07cd602",
   "metadata": {},
   "source": [
    "### Third Column [:, 3]"
   ]
  },
  {
   "cell_type": "code",
   "execution_count": 13,
   "id": "bbf507b3",
   "metadata": {},
   "outputs": [
    {
     "data": {
      "text/plain": [
       "0.5190958622005152"
      ]
     },
     "execution_count": 13,
     "metadata": {},
     "output_type": "execute_result"
    }
   ],
   "source": [
    "-0.43022492 * -1.20656856"
   ]
  },
  {
   "cell_type": "code",
   "execution_count": 14,
   "id": "72450608",
   "metadata": {},
   "outputs": [
    {
     "data": {
      "text/plain": [
       "0.9009027310347408"
      ]
     },
     "execution_count": 14,
     "metadata": {},
     "output_type": "execute_result"
    }
   ],
   "source": [
    "-0.74666518 * -1.20656856"
   ]
  },
  {
   "cell_type": "code",
   "execution_count": 15,
   "id": "482853d3",
   "metadata": {},
   "outputs": [
    {
     "data": {
      "text/plain": [
       "-0.6121449575340719"
      ]
     },
     "execution_count": 15,
     "metadata": {},
     "output_type": "execute_result"
    }
   ],
   "source": [
    "0.5073437 * -1.20656856"
   ]
  }
 ],
 "metadata": {
  "kernelspec": {
   "display_name": "Python 3 (ipykernel)",
   "language": "python",
   "name": "python3"
  },
  "language_info": {
   "codemirror_mode": {
    "name": "ipython",
    "version": 3
   },
   "file_extension": ".py",
   "mimetype": "text/x-python",
   "name": "python",
   "nbconvert_exporter": "python",
   "pygments_lexer": "ipython3",
   "version": "3.8.10"
  }
 },
 "nbformat": 4,
 "nbformat_minor": 5
}
