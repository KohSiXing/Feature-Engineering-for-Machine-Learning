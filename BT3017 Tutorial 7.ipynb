{
 "cells": [
  {
   "cell_type": "markdown",
   "id": "0a8afcc8",
   "metadata": {},
   "source": [
    "# BT3017 Tutorial 7\n",
    "\n",
    "- There is an online copy<sup>+</sup> of this tutorial on github available [here](https://github.com/KohSiXing/Feature-Engineering-for-Machine-Learning/blob/master/BT3017%20Tutorial%207.ipynb)\n",
    "\n",
    "<sup>+</sup> Online copy will only be published after Wednesday 1000 of that week to prevent plagiarism."
   ]
  },
  {
   "cell_type": "markdown",
   "id": "6082040c",
   "metadata": {},
   "source": [
    "### Preprocessing\n",
    "\n"
   ]
  },
  {
   "cell_type": "code",
   "execution_count": 1,
   "id": "050e1548",
   "metadata": {},
   "outputs": [],
   "source": [
    "import numpy as np\n",
    "import pandas as pd\n",
    "import seaborn as sns\n",
    "import sounddevice as sd\n",
    "from scipy.fft import fft, fftfreq\n",
    "from scipy.io.wavfile import read, write\n",
    "import matplotlib.pyplot as plt"
   ]
  },
  {
   "cell_type": "markdown",
   "id": "c6e2f3c0",
   "metadata": {},
   "source": [
    "### 1\n",
    "\n",
    "- Play a tone of 1000Hz\n",
    "- Using a sampling frequency of 44.1kHz, record the tone for 5 second and store the audio recording in a file.\n",
    "- The `write` command from `scipy.io.wavfile` has been commented out to prevent accidental overwriting. Simply uncomment if there is a need to re-record the wavfiles"
   ]
  },
  {
   "cell_type": "code",
   "execution_count": 2,
   "id": "a846b1fe",
   "metadata": {},
   "outputs": [],
   "source": [
    "sFreq = 44100\n",
    "duration = 5"
   ]
  },
  {
   "cell_type": "code",
   "execution_count": 3,
   "id": "d9dd6424",
   "metadata": {},
   "outputs": [
    {
     "name": "stdout",
     "output_type": "stream",
     "text": [
      "--- Recording ---\n",
      "--- Done ---\n"
     ]
    }
   ],
   "source": [
    "# 1000 Hz\n",
    "print(\"--- Recording ---\")\n",
    "\n",
    "recording = sd.rec(int(sFreq*duration), samplerate = sFreq, channels = 1)\n",
    "sd.wait()\n",
    "print(\"--- Done ---\")\n",
    "#write('tone1000Hz.wav', sFreq, recording)"
   ]
  },
  {
   "cell_type": "markdown",
   "id": "3ee08d4c",
   "metadata": {},
   "source": [
    "- Repeat the above for tones of 2000Hz, 5000Hz, 10000Hz. "
   ]
  },
  {
   "cell_type": "code",
   "execution_count": 4,
   "id": "493a73b2",
   "metadata": {},
   "outputs": [
    {
     "name": "stdout",
     "output_type": "stream",
     "text": [
      "--- Recording ---\n",
      "--- Done ---\n"
     ]
    }
   ],
   "source": [
    "# 2000 Hz\n",
    "print(\"--- Recording ---\")\n",
    "recording = sd.rec(int(sFreq*duration), samplerate = sFreq, channels = 1)\n",
    "sd.wait()\n",
    "print(\"--- Done ---\")\n",
    "#write('tone2000Hz.wav', sFreq, recording)"
   ]
  },
  {
   "cell_type": "code",
   "execution_count": 5,
   "id": "15b748a4",
   "metadata": {},
   "outputs": [
    {
     "name": "stdout",
     "output_type": "stream",
     "text": [
      "--- Recording ---\n",
      "--- Done ---\n"
     ]
    }
   ],
   "source": [
    "# 5000 Hz\n",
    "print(\"--- Recording ---\")\n",
    "recording = sd.rec(int(sFreq*duration), samplerate = sFreq, channels = 1)\n",
    "sd.wait()\n",
    "print(\"--- Done ---\")\n",
    "#write('tone5000Hz.wav', sFreq, recording)"
   ]
  },
  {
   "cell_type": "code",
   "execution_count": 6,
   "id": "2c71f6ed",
   "metadata": {},
   "outputs": [
    {
     "name": "stdout",
     "output_type": "stream",
     "text": [
      "--- Recording ---\n",
      "--- Done ---\n"
     ]
    }
   ],
   "source": [
    "# 10000 Hz\n",
    "print(\"--- Recording ---\")\n",
    "recording = sd.rec(int(sFreq*duration), samplerate = sFreq, channels = 1)\n",
    "sd.wait()\n",
    "print(\"--- Done ---\")\n",
    "#write('tone10000Hz.wav', sFreq, recording)"
   ]
  },
  {
   "cell_type": "markdown",
   "id": "a573b2fc",
   "metadata": {},
   "source": [
    "### 2"
   ]
  },
  {
   "cell_type": "markdown",
   "id": "74f3a8a8",
   "metadata": {},
   "source": [
    "### File of tone1000Hz\n",
    "\n",
    "- read the file \"tone1000Hz.wav\""
   ]
  },
  {
   "cell_type": "code",
   "execution_count": 7,
   "id": "6177659b",
   "metadata": {},
   "outputs": [
    {
     "data": {
      "text/plain": [
       "array([ 0.0000000e+00,  0.0000000e+00, -3.0517578e-05, ...,\n",
       "       -8.6669922e-03, -8.7890625e-03, -8.6364746e-03], dtype=float32)"
      ]
     },
     "execution_count": 7,
     "metadata": {},
     "output_type": "execute_result"
    }
   ],
   "source": [
    "samplerate, data = read('./tone1000Hz.wav')\n",
    "data"
   ]
  },
  {
   "cell_type": "code",
   "execution_count": 8,
   "id": "06957f2f",
   "metadata": {},
   "outputs": [
    {
     "data": {
      "text/plain": [
       "44100"
      ]
     },
     "execution_count": 8,
     "metadata": {},
     "output_type": "execute_result"
    }
   ],
   "source": [
    "samplerate"
   ]
  },
  {
   "cell_type": "markdown",
   "id": "83758386",
   "metadata": {},
   "source": [
    "- Graph of raw sound signals from the *tone1000Hz.wav* before FFT "
   ]
  },
  {
   "cell_type": "code",
   "execution_count": 9,
   "id": "41774e5a",
   "metadata": {},
   "outputs": [
    {
     "data": {
      "text/plain": [
       "[Text(0.5, 0, 'Time (s)'), Text(0, 0.5, 'Amplitude')]"
      ]
     },
     "execution_count": 9,
     "metadata": {},
     "output_type": "execute_result"
    },
    {
     "data": {
      "image/png": "[encoded data removed]",
      "text/plain": [
       "<Figure size 432x288 with 1 Axes>"
      ]
     },
     "metadata": {
      "needs_background": "light"
     },
     "output_type": "display_data"
    }
   ],
   "source": [
    "time = np.linspace(0, len(data)/samplerate, data.shape[0])\n",
    "graph = sns.lineplot(x = time, y = data)\n",
    "graph.set(xlabel = \"Time (s)\", ylabel = \"Amplitude\")"
   ]
  },
  {
   "cell_type": "code",
   "execution_count": 10,
   "id": "3c121a47",
   "metadata": {},
   "outputs": [
    {
     "data": {
      "text/plain": [
       "array([ 0. ,  0.2,  0.4, ..., -0.6, -0.4, -0.2])"
      ]
     },
     "execution_count": 10,
     "metadata": {},
     "output_type": "execute_result"
    }
   ],
   "source": [
    "xf = fftfreq(samplerate * duration, 1/samplerate)\n",
    "xf"
   ]
  },
  {
   "cell_type": "markdown",
   "id": "6de4ae27",
   "metadata": {},
   "source": [
    "- Perform FFT on the audio signal"
   ]
  },
  {
   "cell_type": "code",
   "execution_count": 11,
   "id": "045636f3",
   "metadata": {},
   "outputs": [
    {
     "data": {
      "text/plain": [
       "array([ 0.32632446-0.j        , -0.09509541-0.05101781j,\n",
       "       -0.0748259 +0.18921554j, ...,  0.00805505+0.04176638j,\n",
       "       -0.0748259 -0.18921554j, -0.09509541+0.05101781j], dtype=complex64)"
      ]
     },
     "execution_count": 11,
     "metadata": {},
     "output_type": "execute_result"
    }
   ],
   "source": [
    "y = fft(data)\n",
    "y"
   ]
  },
  {
   "cell_type": "markdown",
   "id": "0af73183",
   "metadata": {},
   "source": [
    "- Plot the absolute value of the FFT results."
   ]
  },
  {
   "cell_type": "code",
   "execution_count": 12,
   "id": "803d396b",
   "metadata": {},
   "outputs": [
    {
     "data": {
      "text/plain": [
       "[<matplotlib.lines.Line2D at 0x2285f64ffd0>]"
      ]
     },
     "execution_count": 12,
     "metadata": {},
     "output_type": "execute_result"
    },
    {
     "data": {
      "image/png": "[encoded data removed]",
      "text/plain": [
       "<Figure size 432x288 with 1 Axes>"
      ]
     },
     "metadata": {
      "needs_background": "light"
     },
     "output_type": "display_data"
    }
   ],
   "source": [
    "plt.plot(np.abs(y))"
   ]
  },
  {
   "cell_type": "markdown",
   "id": "29747e57",
   "metadata": {},
   "source": [
    "- Identify the index i.e. location of the two peaks in the FFT results from the figure plotted above\n",
    "- The indices identified are `[5000, 215500]`, which coincides with the index of the first 5000th and the last 5000th (or 220500 - 215500) positions respectively"
   ]
  },
  {
   "cell_type": "code",
   "execution_count": 13,
   "id": "797cd2ca",
   "metadata": {},
   "outputs": [
    {
     "data": {
      "text/plain": [
       "(array([  5000, 215500], dtype=int64),)"
      ]
     },
     "execution_count": 13,
     "metadata": {},
     "output_type": "execute_result"
    }
   ],
   "source": [
    "np.where(np.abs(y) > 800)"
   ]
  },
  {
   "cell_type": "markdown",
   "id": "66843b28",
   "metadata": {},
   "source": [
    "- Compute the Frequency Resolution\n",
    "\n",
    "$\\Delta f = \\frac{f_{s}}{N}$"
   ]
  },
  {
   "cell_type": "code",
   "execution_count": 14,
   "id": "7a5d4815",
   "metadata": {},
   "outputs": [
    {
     "data": {
      "text/plain": [
       "0.2"
      ]
     },
     "execution_count": 14,
     "metadata": {},
     "output_type": "execute_result"
    }
   ],
   "source": [
    "FreqRes = samplerate / len(y)\n",
    "FreqRes"
   ]
  },
  {
   "cell_type": "markdown",
   "id": "b9bc00e9",
   "metadata": {},
   "source": [
    "- Verify that the peaks happened at the correct frequencies in Hz as expected.\n",
    "- There is a graph of the centralized values (i.e. 0 Hz in the center), and the peak does fall at 1000Hz and -1000Hz"
   ]
  },
  {
   "cell_type": "code",
   "execution_count": 15,
   "id": "fbbff556",
   "metadata": {},
   "outputs": [
    {
     "data": {
      "text/plain": [
       "1000.0"
      ]
     },
     "execution_count": 15,
     "metadata": {},
     "output_type": "execute_result"
    }
   ],
   "source": [
    "FreqRes * 5000"
   ]
  },
  {
   "cell_type": "code",
   "execution_count": 16,
   "id": "636c2cfd",
   "metadata": {},
   "outputs": [
    {
     "data": {
      "text/plain": [
       "-1000.0"
      ]
     },
     "execution_count": 16,
     "metadata": {},
     "output_type": "execute_result"
    }
   ],
   "source": [
    "FreqRes * (215500 - 220500)"
   ]
  },
  {
   "cell_type": "code",
   "execution_count": 17,
   "id": "588888e9",
   "metadata": {},
   "outputs": [
    {
     "data": {
      "text/plain": [
       "[Text(0.5, 0, 'Frequency (Hz)'), Text(0, 0.5, 'Amplitude'), (-3000.0, 3000.0)]"
      ]
     },
     "execution_count": 17,
     "metadata": {},
     "output_type": "execute_result"
    },
    {
     "data": {
      "image/png": "[encoded data removed]",
      "text/plain": [
       "<Figure size 864x432 with 1 Axes>"
      ]
     },
     "metadata": {
      "needs_background": "light"
     },
     "output_type": "display_data"
    }
   ],
   "source": [
    "# Centralize the graph\n",
    "freq = np.arange(len(np.abs(y))) / (len(data) / samplerate)\n",
    "fig, ax = plt.subplots(figsize = (12,6))\n",
    "graph = sns.lineplot(x = xf, y = np.abs(y), ax = ax)\n",
    "graph.set(xlabel = \"Frequency (Hz)\", ylabel = \"Amplitude\", xlim = (-3000,3000))"
   ]
  },
  {
   "cell_type": "markdown",
   "id": "fe87fe07",
   "metadata": {},
   "source": [
    "### File of tone2000Hz\n",
    "- read the file \"tone2000Hz.wav\""
   ]
  },
  {
   "cell_type": "code",
   "execution_count": 18,
   "id": "568e379c",
   "metadata": {},
   "outputs": [
    {
     "data": {
      "text/plain": [
       "array([ 0.0000000e+00,  0.0000000e+00, -3.0517578e-05, ...,\n",
       "        6.1645508e-03,  5.7067871e-03,  4.7607422e-03], dtype=float32)"
      ]
     },
     "execution_count": 18,
     "metadata": {},
     "output_type": "execute_result"
    }
   ],
   "source": [
    "samplerate, data = read('./tone2000Hz.wav')\n",
    "data"
   ]
  },
  {
   "cell_type": "markdown",
   "id": "b6823059",
   "metadata": {},
   "source": [
    "- Perform FFT on the audio signal"
   ]
  },
  {
   "cell_type": "code",
   "execution_count": 19,
   "id": "83b1c49c",
   "metadata": {},
   "outputs": [
    {
     "data": {
      "text/plain": [
       "array([ 0.03970337-0.j        , -0.02309102-0.02103962j,\n",
       "       -0.03536085+0.04817973j, ..., -0.04234535+0.00544152j,\n",
       "       -0.03536085-0.04817973j, -0.02309102+0.02103962j], dtype=complex64)"
      ]
     },
     "execution_count": 19,
     "metadata": {},
     "output_type": "execute_result"
    }
   ],
   "source": [
    "y = fft(data)\n",
    "y"
   ]
  },
  {
   "cell_type": "markdown",
   "id": "84d5082f",
   "metadata": {},
   "source": [
    "- Plot the absolute value of the FFT results."
   ]
  },
  {
   "cell_type": "code",
   "execution_count": 20,
   "id": "59348aaa",
   "metadata": {},
   "outputs": [
    {
     "data": {
      "text/plain": [
       "[<matplotlib.lines.Line2D at 0x2286837a400>]"
      ]
     },
     "execution_count": 20,
     "metadata": {},
     "output_type": "execute_result"
    },
    {
     "data": {
      "image/png": "[encoded data removed]",
      "text/plain": [
       "<Figure size 432x288 with 1 Axes>"
      ]
     },
     "metadata": {
      "needs_background": "light"
     },
     "output_type": "display_data"
    }
   ],
   "source": [
    "plt.plot(np.abs(y))"
   ]
  },
  {
   "cell_type": "markdown",
   "id": "c41110bb",
   "metadata": {},
   "source": [
    "- Identify the index i.e. location of the two peaks in the FFT results from the figure plotted above\n",
    "- The indices identified are `[10000, 210500]`, which coincides with the index of the first 10000th and the last 10000th (or 220500 - 210500) positions respectively"
   ]
  },
  {
   "cell_type": "code",
   "execution_count": 21,
   "id": "dec7904c",
   "metadata": {},
   "outputs": [
    {
     "data": {
      "text/plain": [
       "(array([ 10000, 210500], dtype=int64),)"
      ]
     },
     "execution_count": 21,
     "metadata": {},
     "output_type": "execute_result"
    }
   ],
   "source": [
    "np.where(np.abs(y) > 3000)"
   ]
  },
  {
   "cell_type": "markdown",
   "id": "f707bbc1",
   "metadata": {},
   "source": [
    "- Frequency Resolution remains the same as above **0.2** since\n",
    "    - Sampling Frequency : `44100 Hz` and \n",
    "    - Length of Data : `44100 Hz x 5s = 220500` remains constant"
   ]
  },
  {
   "cell_type": "markdown",
   "id": "ee9ca722",
   "metadata": {},
   "source": [
    "- Verify that the peaks happened at the correct frequencies in Hz as expected.\n",
    "- There is a graph of the centralized values, and the peak does fall at 2000Hz and -2000Hz"
   ]
  },
  {
   "cell_type": "code",
   "execution_count": 22,
   "id": "9e6eac55",
   "metadata": {},
   "outputs": [
    {
     "data": {
      "text/plain": [
       "2000.0"
      ]
     },
     "execution_count": 22,
     "metadata": {},
     "output_type": "execute_result"
    }
   ],
   "source": [
    "FreqRes * 10000"
   ]
  },
  {
   "cell_type": "code",
   "execution_count": 23,
   "id": "f86f3f90",
   "metadata": {},
   "outputs": [
    {
     "data": {
      "text/plain": [
       "-2000.0"
      ]
     },
     "execution_count": 23,
     "metadata": {},
     "output_type": "execute_result"
    }
   ],
   "source": [
    "FreqRes * (210500 - 220500)"
   ]
  },
  {
   "cell_type": "code",
   "execution_count": 24,
   "id": "47f2e433",
   "metadata": {},
   "outputs": [
    {
     "data": {
      "text/plain": [
       "[Text(0.5, 0, 'Frequency (Hz)'), Text(0, 0.5, 'Amplitude'), (-3000.0, 3000.0)]"
      ]
     },
     "execution_count": 24,
     "metadata": {},
     "output_type": "execute_result"
    },
    {
     "data": {
      "image/png": "[encoded data removed]",
      "text/plain": [
       "<Figure size 864x432 with 1 Axes>"
      ]
     },
     "metadata": {
      "needs_background": "light"
     },
     "output_type": "display_data"
    }
   ],
   "source": [
    "# Centralize the graph\n",
    "freq = np.arange(len(np.abs(y))) / (len(data) / samplerate)\n",
    "fig, ax = plt.subplots(figsize = (12,6))\n",
    "graph = sns.lineplot(x = xf, y = np.abs(y), ax = ax)\n",
    "graph.set(xlabel = \"Frequency (Hz)\", ylabel = \"Amplitude\", xlim = (-3000,3000))"
   ]
  },
  {
   "cell_type": "markdown",
   "id": "858f8949",
   "metadata": {},
   "source": [
    "### File of tone5000Hz\n",
    "\n",
    "- read the file \"tone5000Hz.wav\""
   ]
  },
  {
   "cell_type": "code",
   "execution_count": 25,
   "id": "ddef8167",
   "metadata": {},
   "outputs": [
    {
     "data": {
      "text/plain": [
       "array([ 0.0000000e+00,  0.0000000e+00, -3.0517578e-05, ...,\n",
       "       -7.9956055e-03, -6.2866211e-03, -1.4343262e-03], dtype=float32)"
      ]
     },
     "execution_count": 25,
     "metadata": {},
     "output_type": "execute_result"
    }
   ],
   "source": [
    "samplerate, data = read('./tone5000Hz.wav')\n",
    "data"
   ]
  },
  {
   "cell_type": "markdown",
   "id": "a1ef57ac",
   "metadata": {},
   "source": [
    "- Perform FFT on the audio signal"
   ]
  },
  {
   "cell_type": "code",
   "execution_count": 26,
   "id": "b90916b9",
   "metadata": {},
   "outputs": [
    {
     "data": {
      "text/plain": [
       "array([ 0.03051758-0.j        , -0.01539613-0.00101518j,\n",
       "        0.03931525+0.02006448j, ...,  0.01557019+0.01614536j,\n",
       "        0.03931525-0.02006448j, -0.01539613+0.00101518j], dtype=complex64)"
      ]
     },
     "execution_count": 26,
     "metadata": {},
     "output_type": "execute_result"
    }
   ],
   "source": [
    "y = fft(data)\n",
    "y"
   ]
  },
  {
   "cell_type": "markdown",
   "id": "9b881a2d",
   "metadata": {},
   "source": [
    "- Plot the absolute value of the FFT results."
   ]
  },
  {
   "cell_type": "code",
   "execution_count": 27,
   "id": "d91fd2f3",
   "metadata": {},
   "outputs": [
    {
     "data": {
      "text/plain": [
       "[<matplotlib.lines.Line2D at 0x22867e1d370>]"
      ]
     },
     "execution_count": 27,
     "metadata": {},
     "output_type": "execute_result"
    },
    {
     "data": {
      "image/png": "[encoded data removed]",
      "text/plain": [
       "<Figure size 432x288 with 1 Axes>"
      ]
     },
     "metadata": {
      "needs_background": "light"
     },
     "output_type": "display_data"
    }
   ],
   "source": [
    "plt.plot(np.abs(y))"
   ]
  },
  {
   "cell_type": "markdown",
   "id": "841fcc49",
   "metadata": {},
   "source": [
    "- Identify the index i.e. location of the two peaks in the FFT results from the figure plotted above\n",
    "- The indices identified are `[25000, 195500]`, which coincides with the index of the first 25000th and the last 25000th (or 220500 - 195500) positions respectively"
   ]
  },
  {
   "cell_type": "code",
   "execution_count": 28,
   "id": "8f8f0503",
   "metadata": {},
   "outputs": [
    {
     "data": {
      "text/plain": [
       "(array([ 25000, 195500], dtype=int64),)"
      ]
     },
     "execution_count": 28,
     "metadata": {},
     "output_type": "execute_result"
    }
   ],
   "source": [
    "np.where(np.abs(y) > 2000)"
   ]
  },
  {
   "cell_type": "markdown",
   "id": "fb51e59e",
   "metadata": {},
   "source": [
    "- Frequency Resolution remains the same as above **0.2** since\n",
    "    - Sampling Frequency : `44100 Hz` and \n",
    "    - Length of Data : `44100 Hz x 5s = 220500` remains constant"
   ]
  },
  {
   "cell_type": "markdown",
   "id": "a2705a1f",
   "metadata": {},
   "source": [
    "- Verify that the peaks happened at the correct frequencies in Hz as expected.\n",
    "- There is a graph of the centralized values, and the peak does fall at 5000Hz and -5000Hz"
   ]
  },
  {
   "cell_type": "code",
   "execution_count": 29,
   "id": "ffa8c209",
   "metadata": {},
   "outputs": [
    {
     "data": {
      "text/plain": [
       "5000.0"
      ]
     },
     "execution_count": 29,
     "metadata": {},
     "output_type": "execute_result"
    }
   ],
   "source": [
    "FreqRes * 25000"
   ]
  },
  {
   "cell_type": "code",
   "execution_count": 30,
   "id": "ded4cc5e",
   "metadata": {},
   "outputs": [
    {
     "data": {
      "text/plain": [
       "-5000.0"
      ]
     },
     "execution_count": 30,
     "metadata": {},
     "output_type": "execute_result"
    }
   ],
   "source": [
    "FreqRes * (195500 - 220500)"
   ]
  },
  {
   "cell_type": "code",
   "execution_count": 31,
   "id": "56be1579",
   "metadata": {},
   "outputs": [
    {
     "data": {
      "text/plain": [
       "[Text(0.5, 0, 'Frequency (Hz)'), Text(0, 0.5, 'Amplitude'), (-6000.0, 6000.0)]"
      ]
     },
     "execution_count": 31,
     "metadata": {},
     "output_type": "execute_result"
    },
    {
     "data": {
      "image/png": "[encoded data removed]",
      "text/plain": [
       "<Figure size 864x432 with 1 Axes>"
      ]
     },
     "metadata": {
      "needs_background": "light"
     },
     "output_type": "display_data"
    }
   ],
   "source": [
    "# Centralize the graph\n",
    "freq = np.arange(len(np.abs(y))) / (len(data) / samplerate)\n",
    "fig, ax = plt.subplots(figsize = (12,6))\n",
    "graph = sns.lineplot(x = xf, y = np.abs(y), ax = ax)\n",
    "graph.set(xlabel = \"Frequency (Hz)\", ylabel = \"Amplitude\", xlim = (-6000,6000))"
   ]
  },
  {
   "cell_type": "markdown",
   "id": "74d7dd84",
   "metadata": {},
   "source": [
    "### File of tone10000Hz\n",
    "\n",
    "- Read the file \"tone10000Hz.wav\""
   ]
  },
  {
   "cell_type": "code",
   "execution_count": 32,
   "id": "681ca848",
   "metadata": {},
   "outputs": [
    {
     "data": {
      "text/plain": [
       "array([ 0.05072021, -0.2574463 , -0.14041138, ...,  0.23828125,\n",
       "       -0.16400146, -0.23361206], dtype=float32)"
      ]
     },
     "execution_count": 32,
     "metadata": {},
     "output_type": "execute_result"
    }
   ],
   "source": [
    "samplerate, data = read('./tone10000Hz.wav')\n",
    "data"
   ]
  },
  {
   "cell_type": "markdown",
   "id": "736a068c",
   "metadata": {},
   "source": [
    "- Perform FFT on the audio signal"
   ]
  },
  {
   "cell_type": "code",
   "execution_count": 33,
   "id": "6c35558c",
   "metadata": {},
   "outputs": [
    {
     "data": {
      "text/plain": [
       "array([-37.18686  -0.j       , -49.63978  +0.5154067j,\n",
       "       -29.91023 +10.011353j , ..., -58.215397-47.146404j ,\n",
       "       -29.91023 -10.011353j , -49.63978  -0.5154067j], dtype=complex64)"
      ]
     },
     "execution_count": 33,
     "metadata": {},
     "output_type": "execute_result"
    }
   ],
   "source": [
    "y = fft(data)\n",
    "y"
   ]
  },
  {
   "cell_type": "markdown",
   "id": "76def30c",
   "metadata": {},
   "source": [
    "- Plot the absolute value of the FFT results."
   ]
  },
  {
   "cell_type": "code",
   "execution_count": 34,
   "id": "01c16991",
   "metadata": {},
   "outputs": [
    {
     "data": {
      "text/plain": [
       "[<matplotlib.lines.Line2D at 0x228693652b0>]"
      ]
     },
     "execution_count": 34,
     "metadata": {},
     "output_type": "execute_result"
    },
    {
     "data": {
      "image/png": "[encoded data removed]",
      "text/plain": [
       "<Figure size 432x288 with 1 Axes>"
      ]
     },
     "metadata": {
      "needs_background": "light"
     },
     "output_type": "display_data"
    }
   ],
   "source": [
    "plt.plot(np.abs(y))"
   ]
  },
  {
   "cell_type": "markdown",
   "id": "12358fb6",
   "metadata": {},
   "source": [
    "- Identify the index i.e. location of the two peaks in the FFT results from the figure plotted above\n",
    "- The indices identified are `[50001, 170499]`, which coincides with the index of the first 50001st and the last 50001st (or 242688 - 170499) position respectively."
   ]
  },
  {
   "cell_type": "code",
   "execution_count": 35,
   "id": "997db962",
   "metadata": {},
   "outputs": [
    {
     "data": {
      "text/plain": [
       "(array([ 50001, 170499], dtype=int64),)"
      ]
     },
     "execution_count": 35,
     "metadata": {},
     "output_type": "execute_result"
    }
   ],
   "source": [
    "np.where(np.abs(y) > 25000)"
   ]
  },
  {
   "cell_type": "markdown",
   "id": "79f0a06f",
   "metadata": {},
   "source": [
    "- Frequency Resolution remains the same as above **0.2** since\n",
    "    - Sampling Frequency : `44100 Hz` and \n",
    "    - Length of Data : `44100 Hz x 5s = 220500` remains constant"
   ]
  },
  {
   "cell_type": "code",
   "execution_count": 36,
   "id": "b4b826b1",
   "metadata": {},
   "outputs": [
    {
     "data": {
      "text/plain": [
       "0.2"
      ]
     },
     "execution_count": 36,
     "metadata": {},
     "output_type": "execute_result"
    }
   ],
   "source": [
    "FreqRes = samplerate / len(data)\n",
    "FreqRes"
   ]
  },
  {
   "cell_type": "markdown",
   "id": "1695ad31",
   "metadata": {},
   "source": [
    "- Verify that the peaks happened at the correct frequencies in Hz as expected.\n",
    "- There is a graph of the centralized values, and the peak does falls at 10000Hz and -10000Hz. \n",
    "- The indicies of the peaks are just off by 1 index, which is still within expectation. When integer casting is used, the dominant frequencies are still 10000Hz and -10000Hz"
   ]
  },
  {
   "cell_type": "code",
   "execution_count": 37,
   "id": "d2bfd32f",
   "metadata": {},
   "outputs": [
    {
     "data": {
      "text/plain": [
       "10000"
      ]
     },
     "execution_count": 37,
     "metadata": {},
     "output_type": "execute_result"
    }
   ],
   "source": [
    "int(FreqRes * 50001)"
   ]
  },
  {
   "cell_type": "code",
   "execution_count": 38,
   "id": "77fed57b",
   "metadata": {},
   "outputs": [
    {
     "data": {
      "text/plain": [
       "-10000"
      ]
     },
     "execution_count": 38,
     "metadata": {},
     "output_type": "execute_result"
    }
   ],
   "source": [
    "int(FreqRes * (170499 - 220500))"
   ]
  },
  {
   "cell_type": "code",
   "execution_count": 39,
   "id": "5042655c",
   "metadata": {},
   "outputs": [
    {
     "data": {
      "text/plain": [
       "[Text(0.5, 0, 'Frequency (Hz)'),\n",
       " Text(0, 0.5, 'Amplitude'),\n",
       " (-12000.0, 12000.0)]"
      ]
     },
     "execution_count": 39,
     "metadata": {},
     "output_type": "execute_result"
    },
    {
     "data": {
      "image/png": "[encoded data removed]",
      "text/plain": [
       "<Figure size 864x432 with 1 Axes>"
      ]
     },
     "metadata": {
      "needs_background": "light"
     },
     "output_type": "display_data"
    }
   ],
   "source": [
    "# Centralize the graph\n",
    "freq = np.arange(len(np.abs(y))) / (len(y) / samplerate)\n",
    "fig, ax = plt.subplots(figsize = (12,6))\n",
    "graph = sns.lineplot(x = xf, y = np.abs(y), ax = ax)\n",
    "graph.set(xlabel = \"Frequency (Hz)\", ylabel = \"Amplitude\", xlim = (-12000,12000))"
   ]
  },
  {
   "cell_type": "markdown",
   "id": "3ad1a77b",
   "metadata": {},
   "source": [
    "#### References\n",
    "\n",
    "<sup>[1]</sup> Coding With Evan. (2021, May 3). Voice recorder with python - youtube. Voice Recorder With Python. Retrieved March 17, 2022, from https://www.youtube.com/watch?v=HT5w-HNcr5A <br />\n",
    "<sup>[2]</sup> Bechtold, B., &amp; Geier, M. (2015). Soundfile. SoundFile. Retrieved March 17, 2022, from https://pysoundfile.readthedocs.io/en/latest/ <br />\n",
    "<sup>[3]</sup> MacLeod, C. (2021, June 26). Fourier transforms with scipy.fft: Python Signal Processing. Real Python. Retrieved March 17, 2022, from https://realpython.com/python-scipy-fft/ <br />\n",
    "<sup>[4]</sup> Matplotlib Development Team. (2012). Creating multiple subplots using plt.subplots. Creating multiple subplots using plt.subplots - Matplotlib 3.5.1 documentation. Retrieved March 17, 2022, from https://matplotlib.org/stable/gallery/subplots_axes_and_figures/subplots_demo.html <br />\n",
    "<sup>[5]</sup> Kong, Q. K., Siauw, T., &amp; Bayen, A. (2020). FFT in python — python numerical methods. FFT in Python. Retrieved March 17, 2022, from https://pythonnumericalmethods.berkeley.edu/notebooks/chapter24.04-FFT-in-Python.html "
   ]
  },
  {
   "cell_type": "markdown",
   "id": "9a42fd8f",
   "metadata": {},
   "source": [
    "#### Previous Test Runs\n",
    "\n",
    "- The original tests uses 2 channels (left & right), as such when `FTT` is to be performed, we must perform it channel by channel. \n",
    "\n",
    "- Below is an example of performing `FTT` using sound data recorded with 2 channels for the file *tone1000Hz2Channels.wav*\n",
    "    - samplerate: `44100Hz`\n",
    "    - duration: `5s`"
   ]
  },
  {
   "cell_type": "code",
   "execution_count": 40,
   "id": "5eab38ab",
   "metadata": {},
   "outputs": [
    {
     "data": {
      "text/plain": [
       "array([[ 0.0000000e+00,  0.0000000e+00],\n",
       "       [-3.0517578e-05,  0.0000000e+00],\n",
       "       [ 0.0000000e+00,  0.0000000e+00],\n",
       "       ...,\n",
       "       [-4.3640137e-03, -3.3264160e-03],\n",
       "       [-1.8310547e-04,  9.1552734e-04],\n",
       "       [ 2.7160645e-03,  3.7841797e-03]], dtype=float32)"
      ]
     },
     "execution_count": 40,
     "metadata": {},
     "output_type": "execute_result"
    }
   ],
   "source": [
    "samplerate, data = read('./tone1000Hz2Channels.wav')\n",
    "duration = 5\n",
    "data"
   ]
  },
  {
   "cell_type": "markdown",
   "id": "c4298549",
   "metadata": {},
   "source": [
    "- Ploting the graph of both the raw left and right channels"
   ]
  },
  {
   "cell_type": "code",
   "execution_count": 41,
   "id": "fd3bb009",
   "metadata": {},
   "outputs": [
    {
     "data": {
      "image/png": "[encoded data removed]",
      "text/plain": [
       "<Figure size 864x432 with 2 Axes>"
      ]
     },
     "metadata": {
      "needs_background": "light"
     },
     "output_type": "display_data"
    }
   ],
   "source": [
    "time = np.linspace(0., len(data)/samplerate, data.shape[0])\n",
    "\n",
    "fig, axs = plt.subplots(2, figsize = (12,6))\n",
    "plt.subplots_adjust(hspace=1)\n",
    "fig.suptitle('Graph of each of the 2 channels')\n",
    "\n",
    "axs[0].plot(time, data[:, 0], \"tab:orange\")\n",
    "axs[1].plot(time, data[:, 1], \"tab:blue\")\n",
    "\n",
    "axs[0].set_title(\"Left channel\")\n",
    "axs[1].set_title(\"Right channel\")\n",
    "\n",
    "\n",
    "for ax in axs.flat:\n",
    "    ax.set(xlabel='Time (s)', ylabel='Amplitude')"
   ]
  },
  {
   "cell_type": "code",
   "execution_count": 42,
   "id": "b2697ea3",
   "metadata": {},
   "outputs": [
    {
     "data": {
      "text/plain": [
       "array([ 0. ,  0.2,  0.4, ..., -0.6, -0.4, -0.2])"
      ]
     },
     "execution_count": 42,
     "metadata": {},
     "output_type": "execute_result"
    }
   ],
   "source": [
    "xf = fftfreq(samplerate * duration, 1/samplerate)\n",
    "xf"
   ]
  },
  {
   "cell_type": "code",
   "execution_count": 43,
   "id": "aa798b9e",
   "metadata": {},
   "outputs": [
    {
     "data": {
      "text/plain": [
       "array([ 0.18743896-0.j        , -0.37821746+0.44358903j,\n",
       "       -0.04323466+0.12659252j, ..., -0.26319146-0.36522287j,\n",
       "       -0.04323466-0.12659252j, -0.37821746-0.44358903j], dtype=complex64)"
      ]
     },
     "execution_count": 43,
     "metadata": {},
     "output_type": "execute_result"
    }
   ],
   "source": [
    "# Taking data from the left channel first\n",
    "y = fft(data[:,0])\n",
    "y"
   ]
  },
  {
   "cell_type": "code",
   "execution_count": 44,
   "id": "f941755e",
   "metadata": {},
   "outputs": [
    {
     "data": {
      "image/png": "[encoded data removed]",
      "text/plain": [
       "<Figure size 432x288 with 1 Axes>"
      ]
     },
     "metadata": {
      "needs_background": "light"
     },
     "output_type": "display_data"
    }
   ],
   "source": [
    "# Find the peaks in the graph to determine which is the dominant frequency in the soundfile\n",
    "plt.plot(xf, np.abs(y))\n",
    "plt.title(\"Left Channel\")\n",
    "plt.xlabel('Freq (Hz)')\n",
    "plt.ylabel('Amplitude')\n",
    "plt.show()"
   ]
  },
  {
   "cell_type": "markdown",
   "id": "c37c360f",
   "metadata": {},
   "source": [
    "- Looking only at the positive region, we can see that the peak for the left channel is at `1000Hz` which is the frequency recorded for the file *tone1000Hz.wav*"
   ]
  },
  {
   "cell_type": "code",
   "execution_count": 45,
   "id": "39678dbf",
   "metadata": {},
   "outputs": [
    {
     "data": {
      "text/plain": [
       "(0.0, 5000.0)"
      ]
     },
     "execution_count": 45,
     "metadata": {},
     "output_type": "execute_result"
    },
    {
     "data": {
      "image/png": "[encoded data removed]",
      "text/plain": [
       "<Figure size 864x432 with 1 Axes>"
      ]
     },
     "metadata": {
      "needs_background": "light"
     },
     "output_type": "display_data"
    }
   ],
   "source": [
    "N = len(y)\n",
    "n = np.arange(N)\n",
    "T = N/samplerate\n",
    "freq = n/T \n",
    "\n",
    "plt.figure(figsize = (12, 6))\n",
    "\n",
    "plt.stem(freq, np.abs(y))\n",
    "plt.xlabel('Freq (Hz)')\n",
    "plt.ylabel('Amplitude')\n",
    "plt.xlim(0, 5000)"
   ]
  },
  {
   "cell_type": "code",
   "execution_count": 46,
   "id": "ba07e8e2",
   "metadata": {},
   "outputs": [
    {
     "data": {
      "text/plain": [
       "array([ 0.29135132-0.j        , -0.43944296+0.57395947j,\n",
       "       -0.02930029-0.03268345j, ..., -0.24670622-0.31886446j,\n",
       "       -0.02930029+0.03268345j, -0.43944296-0.57395947j], dtype=complex64)"
      ]
     },
     "execution_count": 46,
     "metadata": {},
     "output_type": "execute_result"
    }
   ],
   "source": [
    "# Taking data from the right channel now\n",
    "y = fft(data[:,1])\n",
    "y"
   ]
  },
  {
   "cell_type": "code",
   "execution_count": 47,
   "id": "5f616384",
   "metadata": {},
   "outputs": [
    {
     "data": {
      "image/png": "[encoded data removed]",
      "text/plain": [
       "<Figure size 432x288 with 1 Axes>"
      ]
     },
     "metadata": {
      "needs_background": "light"
     },
     "output_type": "display_data"
    }
   ],
   "source": [
    "# Find the peaks in the graph to determine which is the dominant frequency in the soundfile\n",
    "plt.plot(xf, np.abs(y))\n",
    "plt.title(\"Right Channel\")\n",
    "plt.xlabel('Freq (Hz)')\n",
    "plt.ylabel('Amplitude')\n",
    "plt.show()"
   ]
  },
  {
   "cell_type": "markdown",
   "id": "9f5f76b6",
   "metadata": {},
   "source": [
    "- Looking only at the positive region, we can see that the peak for the right channel is at `1000Hz` which is the frequency recorded for the file *tone1000Hz.wav*"
   ]
  },
  {
   "cell_type": "code",
   "execution_count": 48,
   "id": "f3a2a44b",
   "metadata": {},
   "outputs": [
    {
     "data": {
      "text/plain": [
       "(0.0, 5000.0)"
      ]
     },
     "execution_count": 48,
     "metadata": {},
     "output_type": "execute_result"
    },
    {
     "data": {
      "image/png": "[encoded data removed]",
      "text/plain": [
       "<Figure size 864x432 with 1 Axes>"
      ]
     },
     "metadata": {
      "needs_background": "light"
     },
     "output_type": "display_data"
    }
   ],
   "source": [
    "N = len(y)\n",
    "n = np.arange(N)\n",
    "T = N/samplerate\n",
    "freq = n/T \n",
    "\n",
    "plt.figure(figsize = (12, 6))\n",
    "\n",
    "plt.stem(freq, np.abs(y))\n",
    "plt.xlabel('Freq (Hz)')\n",
    "plt.ylabel('Amplitude')\n",
    "plt.xlim(0, 5000)"
   ]
  }
 ],
 "metadata": {
  "kernelspec": {
   "display_name": "Python 3 (ipykernel)",
   "language": "python",
   "name": "python3"
  },
  "language_info": {
   "codemirror_mode": {
    "name": "ipython",
    "version": 3
   },
   "file_extension": ".py",
   "mimetype": "text/x-python",
   "name": "python",
   "nbconvert_exporter": "python",
   "pygments_lexer": "ipython3",
   "version": "3.8.10"
  }
 },
 "nbformat": 4,
 "nbformat_minor": 5
}
